{
 "cells": [
  {
   "cell_type": "markdown",
   "id": "0c1c56b1-2833-4601-8dfa-a3912c266cc4",
   "metadata": {},
   "source": [
    "## Map created by Jimmy"
   ]
  },
  {
   "cell_type": "markdown",
   "id": "cf5994b1-b714-445a-b440-e7e64177bd85",
   "metadata": {},
   "source": [
    "### Research Question in Brief: \n",
    "### 1. Investigating the growth of new children born in different counties of U.S.. We can use variables to present the population demographic of U.S. States and determine the highest count of birth from 1985-2015 for each year. \n",
    "### 2. Determine which State has increase most population in the period of 1985-2015. "
   ]
  },
  {
   "cell_type": "markdown",
   "id": "123ee338-dbae-40c7-9b5f-1a223afcfbbf",
   "metadata": {},
   "source": [
    "I focused on the total increased of US state population from 1985 to 2015 and I also compare the state births between each state from 1985 to 2015. Before everything, I've discovered that there is a data differentiation between pre-2003 and post-2003. For example, state 5 in pre-2003 dataset form a trend that matches state 6 in post-2003 dataset. Many of there treand anomolies occured so therefore I wrote a function called 'get_real_state' in the 'project_funciton.py' to obtain the original state match again. \n"
   ]
  },
  {
   "cell_type": "markdown",
   "id": "0a060875-a052-4c8c-b7fe-0a3db570fedf",
   "metadata": {},
   "source": [
    "<img src=\"Bar Graph of All State-birth-Jimmy.png\" width=\"1000px\">"
   ]
  },
  {
   "cell_type": "markdown",
   "id": "6cb1a4a8-7bc1-4137-a815-1f4e0bc94b10",
   "metadata": {},
   "source": [
    "In the graph of State birth, we can see that the highest birth count occur in state 5 which is California if we count it in alphabetical order. "
   ]
  },
  {
   "cell_type": "markdown",
   "id": "20774542-69e5-4a61-b5bc-78a376817b74",
   "metadata": {},
   "source": [
    "<img src=\"Scatter-Graph-1,13-States-birth-Jimmy.png\" width=\"1000px\">"
   ]
  },
  {
   "cell_type": "markdown",
   "id": "51155829-caa2-4084-a30f-77033d990436",
   "metadata": {},
   "source": [
    "<img src=\"Scatter-Graph-2,13-States-birth-Jimmy.png\" width=\"1000px\">"
   ]
  },
  {
   "cell_type": "markdown",
   "id": "71df2836-0372-421c-a78d-d3a9856b16ab",
   "metadata": {},
   "source": [
    "<img src=\"Scatter-Graph-3,13-States-birth-Jimmy.png\" width=\"1000px\">"
   ]
  },
  {
   "cell_type": "markdown",
   "id": "b6800420-d8c4-4dbc-878b-1dad9e66d684",
   "metadata": {},
   "source": [
    "<img src=\"Scatter-Graph-4,12-States-birth-Jimmy.png\" width=\"1000px\">"
   ]
  },
  {
   "cell_type": "markdown",
   "id": "2445a2d4-bd5b-4962-a59e-710dafd71763",
   "metadata": {},
   "source": [
    "I produced 4 scatterplots to plot all 51 states because each scatterplot can only account data for 20 states. Also, some of the state birth count are stopped after 2003 because the lack of data base on the scatterplot. For those state that we're able to see full scatterplot, we see that there's a trend with all those data. Population growth count peak around 1990 and 2008. The scatter plot shows the highest state increase is State 5. State 5 in alphabetical order belongs to the State of California. It has the higest average of growth count overall."
   ]
  },
  {
   "cell_type": "markdown",
   "id": "11e9a654-7831-4f61-b6d8-b1e86fd65eb8",
   "metadata": {},
   "source": [
    "### Conclusion: Jimmy discovered the state with the highest increase in birth count! "
   ]
  },
  {
   "cell_type": "code",
   "execution_count": null,
   "id": "cc8b67be-1ac4-4229-b3f9-1089a313fcc1",
   "metadata": {},
   "outputs": [],
   "source": []
  }
 ],
 "metadata": {
  "kernelspec": {
   "display_name": "Python 3 (ipykernel)",
   "language": "python",
   "name": "python3"
  },
  "language_info": {
   "codemirror_mode": {
    "name": "ipython",
    "version": 3
   },
   "file_extension": ".py",
   "mimetype": "text/x-python",
   "name": "python",
   "nbconvert_exporter": "python",
   "pygments_lexer": "ipython3",
   "version": "3.8.10"
  }
 },
 "nbformat": 4,
 "nbformat_minor": 5
}
