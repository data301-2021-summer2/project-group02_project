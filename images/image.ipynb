{
 "cells": [
  {
   "cell_type": "markdown",
   "id": "369a7774",
   "metadata": {},
   "source": [
    "# Reasearch Question 1: The birth percentages among all US states in 1985. The x-axis is the state number, and Y axis is percentage in %. \n"
   ]
  },
  {
   "cell_type": "markdown",
   "id": "d8a5be9a",
   "metadata": {},
   "source": [
    "<img src=\"1985birthpercentage.PNG\" width=\"800px\">"
   ]
  },
  {
   "cell_type": "markdown",
   "id": "d296b8c3-063c-4c43-a2b8-99c170dac854",
   "metadata": {},
   "source": [
    "<img src=\"comparsionbymonth.PNG\" width=\"600px\">"
   ]
  },
  {
   "cell_type": "markdown",
   "id": "d8b40c9f",
   "metadata": {},
   "source": []
  },
  {
   "cell_type": "code",
   "execution_count": 4,
   "id": "81b22953",
   "metadata": {},
   "outputs": [
    {
     "ename": "SyntaxError",
     "evalue": "invalid syntax (Temp/ipykernel_11364/3279118682.py, line 1)",
     "output_type": "error",
     "traceback": [
      "\u001b[1;36m  File \u001b[1;32m\"C:\\Users\\iamda\\AppData\\Local\\Temp/ipykernel_11364/3279118682.py\"\u001b[1;36m, line \u001b[1;32m1\u001b[0m\n\u001b[1;33m    <img src=\"3.PNG\" width=\"800px\">\u001b[0m\n\u001b[1;37m    ^\u001b[0m\n\u001b[1;31mSyntaxError\u001b[0m\u001b[1;31m:\u001b[0m invalid syntax\n"
     ]
    }
   ],
   "source": [
    "<img src=\"3.PNG\" width=\"800px\">"
   ]
  },
  {
   "cell_type": "markdown",
   "id": "c4dfdfe9",
   "metadata": {},
   "source": [
    "# Research question #2 :how the US new births trended from 1985-2015 and how the new births compared in each month over the 30 years (Darren)"
   ]
  },
  {
   "cell_type": "code",
   "execution_count": 1,
   "id": "5132716b",
   "metadata": {},
   "outputs": [],
   "source": [
    "#1 how the US new births trended from 1985-2015"
   ]
  },
  {
   "cell_type": "markdown",
   "id": "486f126d",
   "metadata": {
    "tags": []
   },
   "source": [
    "Image 4: Comparison of the monthly population additions over the three decades from 1985 to 2015"
   ]
  },
  {
   "cell_type": "markdown",
   "id": "aae9b786-6438-4522-bdb8-2b0a37aedfa6",
   "metadata": {},
   "source": [
    "<img src=\"1.PNG\" width=\"600px\">"
   ]
  },
  {
   "cell_type": "markdown",
   "id": "839e13c0",
   "metadata": {},
   "source": [
    "The X-axis of this graph corresponds to the 12 months and the Y-axis to the total number of births in that month during the 30 years.The whole graph allows a clear comparison of the differences in the number of people born in each month (when more people are born or when fewer people are born)."
   ]
  },
  {
   "cell_type": "code",
   "execution_count": 2,
   "id": "8dd53ce2",
   "metadata": {},
   "outputs": [],
   "source": [
    "#2 How the new population in the US is changing since 1985"
   ]
  },
  {
   "cell_type": "markdown",
   "id": "b91178cd",
   "metadata": {},
   "source": [
    "Image 5: Trends/Changes in the U.S. New Population for each year from 1985 to 2005"
   ]
  },
  {
   "cell_type": "markdown",
   "id": "f1bad7f2",
   "metadata": {},
   "source": [
    "<img src=\"2.PNG\" width=\"600px\">"
   ]
  },
  {
   "cell_type": "markdown",
   "id": "e8c63940",
   "metadata": {},
   "source": [
    "The X-axis of this graph corresponds to the 56 states in US and the Y-axis to the total number of births in that month during the 30 years. The whole graph allows for a clear comparison of the differences in births from year to year as well as an approximate forecast of trends and changes in births over time"
   ]
  },
  {
   "cell_type": "code",
   "execution_count": null,
   "id": "552ba77d",
   "metadata": {},
   "outputs": [],
   "source": []
  },
  {
   "cell_type": "code",
   "execution_count": null,
   "id": "4fdf0ef8",
   "metadata": {},
   "outputs": [],
   "source": []
  },
  {
   "cell_type": "code",
   "execution_count": null,
   "id": "a556df13",
   "metadata": {},
   "outputs": [],
   "source": []
  },
  {
   "cell_type": "code",
   "execution_count": null,
   "id": "fa01ee94",
   "metadata": {},
   "outputs": [],
   "source": []
  },
  {
   "cell_type": "code",
   "execution_count": null,
   "id": "716c7cfb",
   "metadata": {},
   "outputs": [],
   "source": [
    "\n"
   ]
  },
  {
   "cell_type": "code",
   "execution_count": null,
   "id": "555de85c",
   "metadata": {},
   "outputs": [],
   "source": [
    "\n"
   ]
  },
  {
   "cell_type": "code",
   "execution_count": null,
   "id": "dcd22690",
   "metadata": {},
   "outputs": [],
   "source": []
  },
  {
   "cell_type": "code",
   "execution_count": null,
   "id": "fbec183e",
   "metadata": {},
   "outputs": [],
   "source": []
  },
  {
   "cell_type": "code",
   "execution_count": null,
   "id": "4bd5380a",
   "metadata": {},
   "outputs": [],
   "source": []
  },
  {
   "cell_type": "code",
   "execution_count": null,
   "id": "a18297e4",
   "metadata": {},
   "outputs": [],
   "source": []
  },
  {
   "cell_type": "code",
   "execution_count": null,
   "id": "ab31c826",
   "metadata": {},
   "outputs": [],
   "source": []
  },
  {
   "cell_type": "code",
   "execution_count": null,
   "id": "66901f03",
   "metadata": {},
   "outputs": [],
   "source": []
  },
  {
   "cell_type": "code",
   "execution_count": null,
   "id": "f8f3e1e0",
   "metadata": {},
   "outputs": [],
   "source": []
  },
  {
   "cell_type": "code",
   "execution_count": null,
   "id": "8f04bdf3",
   "metadata": {},
   "outputs": [],
   "source": []
  }
 ],
 "metadata": {
  "interpreter": {
   "hash": "c51de6d25a633c4e66afcef34430cb97d37955fe881a00972109a9f01a52b4e6"
  },
  "kernelspec": {
   "display_name": "Python 3 (ipykernel)",
   "language": "python",
   "name": "python3"
  },
  "language_info": {
   "codemirror_mode": {
    "name": "ipython",
    "version": 3
   },
   "file_extension": ".py",
   "mimetype": "text/x-python",
   "name": "python",
   "nbconvert_exporter": "python",
   "pygments_lexer": "ipython3",
   "version": "3.8.5"
  }
 },
 "nbformat": 4,
 "nbformat_minor": 5
}
