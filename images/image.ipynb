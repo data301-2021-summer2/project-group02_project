{
 "cells": [
  {
   "cell_type": "markdown",
   "id": "c2b7b83b-070b-4508-9454-8e92555368dd",
   "metadata": {},
   "source": [
    "Image 1: The birth percentages among all US states in 1985. The x-axis is the state number, and Y axis is percentage in %. \n"
   ]
  },
  {
   "cell_type": "markdown",
   "id": "d9e06aca-11da-457e-89b3-c3b572eac10a",
   "metadata": {
    "tags": []
   },
   "source": [
    "<img src=\"1985birthpercentage.PNG\" width=\"800px\">"
   ]
  },
  {
   "cell_type": "code",
   "execution_count": null,
   "id": "40e08b92-800d-4a80-8685-cec5d3f7a07c",
   "metadata": {},
   "outputs": [],
   "source": []
  },
  {
   "cell_type": "code",
   "execution_count": null,
   "id": "5b224abc-01d5-4241-86da-c0792420704b",
   "metadata": {},
   "outputs": [],
   "source": []
  },
  {
   "cell_type": "markdown",
   "id": "11beca0a-e15d-4623-873d-2cfa4dc46d77",
   "metadata": {},
   "source": [
    "# Research question #2 :how the US new births trended from 1985-2015 and how the new births compared in each month over the 30 years (Darren)"
   ]
  },
  {
   "cell_type": "code",
   "execution_count": 4,
   "id": "1acd330b-0701-4d5a-bf7b-26031915a596",
   "metadata": {},
   "outputs": [],
   "source": [
    "#1 how the US new births trended from 1985-2015"
   ]
  },
  {
   "cell_type": "markdown",
   "id": "60bd1880-0cc6-4183-9cce-6b930083c819",
   "metadata": {
    "tags": []
   },
   "source": [
    "Image 4: Comparison of the monthly population additions over the three decades from 1985 to 2015"
   ]
  },
  {
   "cell_type": "markdown",
   "id": "20938e65-2666-49a9-91ab-94b5356865c5",
   "metadata": {},
   "source": [
    "<img src=\"comparsionbymonth.PNG\" width=\"800px\">"
   ]
  },
  {
   "cell_type": "markdown",
   "id": "b546cb33-35b9-45f3-b412-6e2138fc1cf2",
   "metadata": {},
   "source": [
    "The X-axis of this graph corresponds to the 12 months and the Y-axis to the total number of births in that month during the 30 years.The whole graph allows a clear comparison of the differences in the number of people born in each month (when more people are born or when fewer people are born)."
   ]
  },
  {
   "cell_type": "code",
   "execution_count": 5,
   "id": "e572de2c-9f30-4a54-bebc-e1125f6c7f8f",
   "metadata": {},
   "outputs": [],
   "source": [
    "#2 How the new population in the US is changing since 1985"
   ]
  },
  {
   "cell_type": "markdown",
   "id": "01675fab-c763-4c1d-981d-956d9734f1d0",
   "metadata": {},
   "source": [
    "Image 5: Trends/Changes in the U.S. New Population for each year from 1985 to 2005"
   ]
  },
  {
   "cell_type": "markdown",
   "id": "3cea0b73-4321-4ff4-99bf-d6c5926e8a49",
   "metadata": {},
   "source": [
    "<img src=\"us new born from 1985-2015 comparison.PNG\" width=\"800px\">"
   ]
  },
  {
   "cell_type": "markdown",
   "id": "2fd847cb-40ae-4cd7-8a16-7b4c900a3b39",
   "metadata": {},
   "source": [
    "The X-axis of this graph corresponds to the 56 states in US and the Y-axis to the total number of births in that month during the 30 years. The whole graph allows for a clear comparison of the differences in births from year to year as well as an approximate forecast of trends and changes in births over time"
   ]
  },
  {
   "cell_type": "code",
   "execution_count": null,
   "id": "9e5cb4d2-fdb6-4478-9892-9f1e0ea03089",
   "metadata": {},
   "outputs": [],
   "source": []
  },
  {
   "cell_type": "code",
   "execution_count": null,
   "id": "cc11689e-8440-408d-abf4-e97c590f34ca",
   "metadata": {},
   "outputs": [],
   "source": []
  },
  {
   "cell_type": "code",
   "execution_count": null,
   "id": "87a3b47e-d83e-436f-999d-c7f9aaa86676",
   "metadata": {},
   "outputs": [],
   "source": []
  },
  {
   "cell_type": "code",
   "execution_count": null,
   "id": "7bf7b86d-dfe6-4acc-96f5-0bacdcafe4b6",
   "metadata": {},
   "outputs": [],
   "source": []
  },
  {
   "cell_type": "code",
   "execution_count": null,
   "id": "abaaf184-b22a-4406-897c-28db22848108",
   "metadata": {},
   "outputs": [],
   "source": [
    "\n"
   ]
  },
  {
   "cell_type": "code",
   "execution_count": null,
   "id": "36c2a6c4-638f-4329-a216-6769c9bf3330",
   "metadata": {},
   "outputs": [],
   "source": [
    "\n"
   ]
  },
  {
   "cell_type": "code",
   "execution_count": null,
   "id": "5eb145f8-8548-498a-a7e2-a9d5a0b265aa",
   "metadata": {},
   "outputs": [],
   "source": []
  },
  {
   "cell_type": "code",
   "execution_count": null,
   "id": "8f9af60d-fca1-4991-b55a-d96890f3659a",
   "metadata": {},
   "outputs": [],
   "source": []
  },
  {
   "cell_type": "code",
   "execution_count": null,
   "id": "bfc11f5c-f3ff-4f48-9924-8e7ba95d6e5f",
   "metadata": {},
   "outputs": [],
   "source": []
  },
  {
   "cell_type": "code",
   "execution_count": null,
   "id": "971606cb-7cd9-4884-9645-8d9c8b3ba238",
   "metadata": {},
   "outputs": [],
   "source": []
  },
  {
   "cell_type": "code",
   "execution_count": null,
   "id": "43f5acdf-e855-400b-bda4-16446a5b8a3b",
   "metadata": {},
   "outputs": [],
   "source": []
  },
  {
   "cell_type": "code",
   "execution_count": null,
   "id": "2f199fac-c868-4251-8d25-b42f4f195e0d",
   "metadata": {},
   "outputs": [],
   "source": []
  },
  {
   "cell_type": "code",
   "execution_count": null,
   "id": "e3be00b6-252f-4fc8-99a7-c975b392c95a",
   "metadata": {},
   "outputs": [],
   "source": []
  },
  {
   "cell_type": "code",
   "execution_count": null,
   "id": "913b6b87-dfd2-4e3b-92ff-3f408cc57fd3",
   "metadata": {},
   "outputs": [],
   "source": []
  }
 ],
 "metadata": {
  "kernelspec": {
   "display_name": "Python 3 (ipykernel)",
   "language": "python",
   "name": "python3"
  },
  "language_info": {
   "codemirror_mode": {
    "name": "ipython",
    "version": 3
   },
   "file_extension": ".py",
   "mimetype": "text/x-python",
   "name": "python",
   "nbconvert_exporter": "python",
   "pygments_lexer": "ipython3",
   "version": "3.8.10"
  }
 },
 "nbformat": 4,
 "nbformat_minor": 5
}
