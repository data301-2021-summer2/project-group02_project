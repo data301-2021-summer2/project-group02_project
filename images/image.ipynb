{
 "cells": [
  {
   "cell_type": "markdown",
   "id": "c2b7b83b-070b-4508-9454-8e92555368dd",
   "metadata": {},
   "source": [
    "Image 1: The birth percentages among all US states in 1985. The x-axis is the state number, and Y axis is percentage in %. \n"
   ]
  },
  {
   "cell_type": "markdown",
   "id": "d9e06aca-11da-457e-89b3-c3b572eac10a",
   "metadata": {},
   "source": [
    "<img src=\"1985birthpercentage.PNG\" width=\"800px\">"
   ]
  },
  {
   "cell_type": "code",
   "execution_count": null,
   "id": "ad6b5ca4-0afd-4dca-a535-3511c28a013e",
   "metadata": {
    "tags": []
   },
   "outputs": [],
   "source": []
  },
  {
   "cell_type": "code",
   "execution_count": null,
   "id": "98d7f3de-684f-4c80-9f98-c0126498e8f9",
   "metadata": {},
   "outputs": [],
   "source": []
  },
  {
   "cell_type": "code",
   "execution_count": null,
   "id": "e572de2c-9f30-4a54-bebc-e1125f6c7f8f",
   "metadata": {},
   "outputs": [],
   "source": []
  },
  {
   "cell_type": "code",
   "execution_count": null,
   "id": "057c3686-9649-4a7e-a6ce-7ec336f7d606",
   "metadata": {},
   "outputs": [],
   "source": []
  },
  {
   "cell_type": "code",
   "execution_count": null,
   "id": "20487d78-04ac-4cc9-9076-2779e8ef2720",
   "metadata": {},
   "outputs": [],
   "source": [
    "\n"
   ]
  },
  {
   "cell_type": "code",
   "execution_count": null,
   "id": "ee15256c-6540-452b-beb8-2bf13e1d994d",
   "metadata": {},
   "outputs": [],
   "source": []
  },
  {
   "cell_type": "code",
   "execution_count": null,
   "id": "9e5cb4d2-fdb6-4478-9892-9f1e0ea03089",
   "metadata": {},
   "outputs": [],
   "source": []
  },
  {
   "cell_type": "code",
   "execution_count": null,
   "id": "cc11689e-8440-408d-abf4-e97c590f34ca",
   "metadata": {},
   "outputs": [],
   "source": []
  },
  {
   "cell_type": "code",
   "execution_count": null,
   "id": "87a3b47e-d83e-436f-999d-c7f9aaa86676",
   "metadata": {},
   "outputs": [],
   "source": []
  },
  {
   "cell_type": "code",
   "execution_count": null,
   "id": "7bf7b86d-dfe6-4acc-96f5-0bacdcafe4b6",
   "metadata": {},
   "outputs": [],
   "source": []
  },
  {
   "cell_type": "code",
   "execution_count": null,
   "id": "abaaf184-b22a-4406-897c-28db22848108",
   "metadata": {},
   "outputs": [],
   "source": [
    "\n"
   ]
  },
  {
   "cell_type": "code",
   "execution_count": null,
   "id": "36c2a6c4-638f-4329-a216-6769c9bf3330",
   "metadata": {},
   "outputs": [],
   "source": [
    "\n"
   ]
  },
  {
   "cell_type": "code",
   "execution_count": null,
   "id": "5eb145f8-8548-498a-a7e2-a9d5a0b265aa",
   "metadata": {},
   "outputs": [],
   "source": []
  },
  {
   "cell_type": "code",
   "execution_count": null,
   "id": "8f9af60d-fca1-4991-b55a-d96890f3659a",
   "metadata": {},
   "outputs": [],
   "source": []
  },
  {
   "cell_type": "code",
   "execution_count": null,
   "id": "bfc11f5c-f3ff-4f48-9924-8e7ba95d6e5f",
   "metadata": {},
   "outputs": [],
   "source": []
  },
  {
   "cell_type": "code",
   "execution_count": null,
   "id": "971606cb-7cd9-4884-9645-8d9c8b3ba238",
   "metadata": {},
   "outputs": [],
   "source": []
  },
  {
   "cell_type": "code",
   "execution_count": null,
   "id": "43f5acdf-e855-400b-bda4-16446a5b8a3b",
   "metadata": {},
   "outputs": [],
   "source": []
  },
  {
   "cell_type": "code",
   "execution_count": null,
   "id": "2f199fac-c868-4251-8d25-b42f4f195e0d",
   "metadata": {},
   "outputs": [],
   "source": []
  },
  {
   "cell_type": "code",
   "execution_count": null,
   "id": "e3be00b6-252f-4fc8-99a7-c975b392c95a",
   "metadata": {},
   "outputs": [],
   "source": []
  },
  {
   "cell_type": "code",
   "execution_count": null,
   "id": "913b6b87-dfd2-4e3b-92ff-3f408cc57fd3",
   "metadata": {},
   "outputs": [],
   "source": []
  }
 ],
 "metadata": {
  "kernelspec": {
   "display_name": "Python 3 (ipykernel)",
   "language": "python",
   "name": "python3"
  },
  "language_info": {
   "codemirror_mode": {
    "name": "ipython",
    "version": 3
   },
   "file_extension": ".py",
   "mimetype": "text/x-python",
   "name": "python",
   "nbconvert_exporter": "python",
   "pygments_lexer": "ipython3",
   "version": "3.8.5"
  }
 },
 "nbformat": 4,
 "nbformat_minor": 5
}
