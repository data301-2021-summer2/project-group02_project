{
 "cells": [
  {
   "cell_type": "markdown",
   "id": "369a7774",
   "metadata": {},
   "source": [
    "# Research Question 1: The birth percentages among all US states in 1985. The x-axis is the state number, and Y axis is percentage in % (Andrew). \n"
   ]
  },
  {
   "cell_type": "markdown",
   "id": "d8a5be9a",
   "metadata": {},
   "source": [
    "<img src=\"1985birthpercentage.PNG\" width=\"800px\">"
   ]
  },
  {
   "cell_type": "markdown",
   "id": "d296b8c3-063c-4c43-a2b8-99c170dac854",
   "metadata": {},
   "source": []
  },
  {
   "cell_type": "markdown",
   "id": "d8b40c9f",
   "metadata": {},
   "source": []
  },
  {
   "cell_type": "markdown",
   "id": "0cea39eb-e812-483e-86f7-4951fe027702",
   "metadata": {},
   "source": [
    "<img src=\"3.PNG\" width=\"800px\">"
   ]
  },
  {
   "cell_type": "markdown",
   "id": "b15668aa-22a2-4de7-94e1-a6f7ad41029d",
   "metadata": {},
   "source": [
    "The 2 charts shows the percentage distribution among US states, The 04 states has shown highest birth number in these 2 years, The second highest percentage birth state has changed from state 43 to 47 while 43 has been one of the lowest birt state. To note that there are some state shown 0 birth in that year, this might be the data was filtered out during clean and process steps or data missing in the raw data.  "
   ]
  },
  {
   "cell_type": "markdown",
   "id": "c4dfdfe9",
   "metadata": {},
   "source": [
    "# Research question #2 :how the US new births trended from 1985-2015 and how the new births compared in each month over the 30 years (Darren)"
   ]
  },
  {
   "cell_type": "markdown",
   "id": "a469a800-3935-4322-a738-c00144837436",
   "metadata": {},
   "source": [
    "# 1.How the US new births trended from 1985-2015"
   ]
  },
  {
   "cell_type": "markdown",
   "id": "486f126d",
   "metadata": {
    "tags": []
   },
   "source": [
    "Image 4: Comparison of the monthly population additions over the three decades from 1985 to 2015"
   ]
  },
  {
   "cell_type": "markdown",
   "id": "aae9b786-6438-4522-bdb8-2b0a37aedfa6",
   "metadata": {},
   "source": [
    "<img src=\"1.PNG\" width=\"600px\">"
   ]
  },
  {
   "cell_type": "markdown",
   "id": "839e13c0",
   "metadata": {},
   "source": [
    "The X-axis of this graph corresponds to the 12 months and the Y-axis to the total number of births in that month during the 30 years.The whole graph allows a clear comparison of the differences in the number of people born in each month (when more people are born or when fewer people are born)."
   ]
  },
  {
   "cell_type": "markdown",
   "id": "cafacf40-0a8c-4ec0-b9ab-f173b7abb059",
   "metadata": {},
   "source": [
    "# 2.How the new population in the US is changing since 1985"
   ]
  },
  {
   "cell_type": "markdown",
   "id": "b91178cd",
   "metadata": {},
   "source": [
    "Image 5: Trends/Changes in the U.S. New Population for each year from 1985 to 2005"
   ]
  },
  {
   "cell_type": "markdown",
   "id": "f1bad7f2",
   "metadata": {},
   "source": [
    "<img src=\"2.PNG\" width=\"600px\">"
   ]
  },
  {
   "cell_type": "markdown",
   "id": "e8c63940",
   "metadata": {},
   "source": [
    "The X-axis of this graph corresponds to the 56 states in US and the Y-axis to the total number of births in that month during the 30 years. The whole graph allows for a clear comparison of the differences in births from year to year as well as an approximate forecast of trends and changes in births over time"
   ]
  },
  {
   "cell_type": "code",
   "execution_count": null,
   "id": "552ba77d",
   "metadata": {},
   "outputs": [],
   "source": []
  },
  {
   "cell_type": "markdown",
   "id": "a3ab7740-d8ad-4a17-b587-7dbc39b74724",
   "metadata": {},
   "source": [
    "## Map created by Jimmy"
   ]
  },
  {
   "cell_type": "markdown",
   "id": "efca4e88-002a-42f1-a788-ae0ecdd0749d",
   "metadata": {},
   "source": [
    "### Research Question in Brief: \n",
    "### 1. Investigating the growth of new children born in different counties of U.S.. We can use variables to present the population demographic of U.S. States and determine the highest count of birth from 1985-2015 for each year. \n",
    "### 2. Determine which State has increase most population in the period of 1985-2015."
   ]
  },
  {
   "cell_type": "markdown",
   "id": "8c024614-8aca-48e0-9bf3-325f62520b13",
   "metadata": {},
   "source": [
    "I focused on the total increased of US state population from 1985 to 2015 and I also compare the state births between each state from 1985 to 2015. Before everything, I've discovered that there is a data differentiation between pre-2003 and post-2003. For example, state 5 in pre-2003 dataset form a trend that matches state 6 in post-2003 dataset. Many of there treand anomolies occured so therefore I wrote a function called 'get_real_state' in the 'project_funciton.py' to obtain the original state match again. \n"
   ]
  },
  {
   "cell_type": "markdown",
   "id": "36ab3da5-f789-4e83-bf83-51bdad279c05",
   "metadata": {},
   "source": [
    "<img src=\"Bar Graph of All State-birth-Jimmy.png\" width=\"1000px\">"
   ]
  },
  {
   "cell_type": "markdown",
   "id": "5221b88e-6128-4ef9-bfa4-44b688f46597",
   "metadata": {},
   "source": [
    "In the graph of State birth, we can see that the highest birth count occur in state 5 which is California if we count it in alphabetical order. \n"
   ]
  },
  {
   "cell_type": "markdown",
   "id": "998a31d5-20f9-4d3f-8d0b-1c7d1362436c",
   "metadata": {},
   "source": [
    "<img src=\"Scatter-Graph-1,13-States-birth-Jimmy.png\" width=\"1000px\">"
   ]
  },
  {
   "cell_type": "markdown",
   "id": "c6adad2e-b4ca-4b5f-a420-37e8d14a1bf0",
   "metadata": {},
   "source": [
    "<img src=\"Scatter-Graph-2,13-States-birth-Jimmy.png\" width=\"1000px\">"
   ]
  },
  {
   "cell_type": "markdown",
   "id": "2a4f290e-a6e2-46f5-930f-ac1a77e9db40",
   "metadata": {},
   "source": [
    "<img src=\"Scatter-Graph-3,13-States-birth-Jimmy.png\" width=\"1000px\">"
   ]
  },
  {
   "cell_type": "markdown",
   "id": "ed2db60a-ec5d-4155-8e01-03ab5cc02a71",
   "metadata": {},
   "source": [
    "<img src=\"Scatter-Graph-4,12-States-birth-Jimmy.png\" width=\"1000px\">"
   ]
  },
  {
   "cell_type": "markdown",
   "id": "4b78fca1-a722-43fe-a3fc-f09be0b2d886",
   "metadata": {},
   "source": [
    "I produced 4 scatterplots to plot all 51 states because each scatterplot can only account data for 20 states. Also, some of the state birth count are stopped after 2003 because the lack of data base on the scatterplot. For those state that we're able to see full scatterplot, we see that there's a trend with all those data. Population growth count peak around 1990 and 2008. The scatter plot shows the highest state increase is State 5. State 5 in alphabetical order belongs to the State of California. It has the higest average of growth count overall."
   ]
  },
  {
   "cell_type": "markdown",
   "id": "4c2202a5-5700-40a0-b688-3250c536622f",
   "metadata": {},
   "source": [
    "### Conclusion: Jimmy discovered the state with the highest increase in birth count! "
   ]
  },
  {
   "cell_type": "code",
   "execution_count": null,
   "id": "f8f3e1e0",
   "metadata": {},
   "outputs": [],
   "source": []
  },
  {
   "cell_type": "code",
   "execution_count": null,
   "id": "8f04bdf3",
   "metadata": {},
   "outputs": [],
   "source": []
  }
 ],
 "metadata": {
  "interpreter": {
   "hash": "c51de6d25a633c4e66afcef34430cb97d37955fe881a00972109a9f01a52b4e6"
  },
  "kernelspec": {
   "display_name": "Python 3 (ipykernel)",
   "language": "python",
   "name": "python3"
  },
  "language_info": {
   "codemirror_mode": {
    "name": "ipython",
    "version": 3
   },
   "file_extension": ".py",
   "mimetype": "text/x-python",
   "name": "python",
   "nbconvert_exporter": "python",
   "pygments_lexer": "ipython3",
   "version": "3.8.5"
  }
 },
 "nbformat": 4,
 "nbformat_minor": 5
}
