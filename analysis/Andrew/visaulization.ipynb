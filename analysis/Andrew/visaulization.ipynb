{
 "cells": [
  {
   "cell_type": "code",
   "execution_count": 1,
   "id": "947e6d18-ce38-47ff-a20f-b08748b86fdb",
   "metadata": {},
   "outputs": [],
   "source": [
    "import pandas as pd\n",
    "import seaborn as sns\n",
    "import numpy as py \n",
    "import matplotlib.pyplot as plt"
   ]
  },
  {
   "cell_type": "code",
   "execution_count": 2,
   "id": "d63109df-ce49-46c0-b24b-fd72ed9524f8",
   "metadata": {},
   "outputs": [
    {
     "data": {
      "text/html": [
       "<div>\n",
       "<style scoped>\n",
       "    .dataframe tbody tr th:only-of-type {\n",
       "        vertical-align: middle;\n",
       "    }\n",
       "\n",
       "    .dataframe tbody tr th {\n",
       "        vertical-align: top;\n",
       "    }\n",
       "\n",
       "    .dataframe thead th {\n",
       "        text-align: right;\n",
       "    }\n",
       "</style>\n",
       "<table border=\"1\" class=\"dataframe\">\n",
       "  <thead>\n",
       "    <tr style=\"text-align: right;\">\n",
       "      <th></th>\n",
       "      <th>Unnamed: 0</th>\n",
       "      <th>State</th>\n",
       "      <th>Month</th>\n",
       "      <th>Year</th>\n",
       "      <th>countyBirths</th>\n",
       "      <th>stateBirths</th>\n",
       "      <th>County</th>\n",
       "    </tr>\n",
       "  </thead>\n",
       "  <tbody>\n",
       "    <tr>\n",
       "      <th>0</th>\n",
       "      <td>0</td>\n",
       "      <td>1</td>\n",
       "      <td>1</td>\n",
       "      <td>1985</td>\n",
       "      <td>36.0</td>\n",
       "      <td>5027</td>\n",
       "      <td>1001.0</td>\n",
       "    </tr>\n",
       "    <tr>\n",
       "      <th>1</th>\n",
       "      <td>1</td>\n",
       "      <td>1</td>\n",
       "      <td>2</td>\n",
       "      <td>1985</td>\n",
       "      <td>36.0</td>\n",
       "      <td>4627</td>\n",
       "      <td>1001.0</td>\n",
       "    </tr>\n",
       "    <tr>\n",
       "      <th>2</th>\n",
       "      <td>2</td>\n",
       "      <td>1</td>\n",
       "      <td>3</td>\n",
       "      <td>1985</td>\n",
       "      <td>43.0</td>\n",
       "      <td>4738</td>\n",
       "      <td>1001.0</td>\n",
       "    </tr>\n",
       "    <tr>\n",
       "      <th>3</th>\n",
       "      <td>3</td>\n",
       "      <td>1</td>\n",
       "      <td>4</td>\n",
       "      <td>1985</td>\n",
       "      <td>40.0</td>\n",
       "      <td>4626</td>\n",
       "      <td>1001.0</td>\n",
       "    </tr>\n",
       "    <tr>\n",
       "      <th>4</th>\n",
       "      <td>4</td>\n",
       "      <td>1</td>\n",
       "      <td>5</td>\n",
       "      <td>1985</td>\n",
       "      <td>34.0</td>\n",
       "      <td>4834</td>\n",
       "      <td>1001.0</td>\n",
       "    </tr>\n",
       "    <tr>\n",
       "      <th>...</th>\n",
       "      <td>...</td>\n",
       "      <td>...</td>\n",
       "      <td>...</td>\n",
       "      <td>...</td>\n",
       "      <td>...</td>\n",
       "      <td>...</td>\n",
       "      <td>...</td>\n",
       "    </tr>\n",
       "    <tr>\n",
       "      <th>284461</th>\n",
       "      <td>321470</td>\n",
       "      <td>55</td>\n",
       "      <td>12</td>\n",
       "      <td>2015</td>\n",
       "      <td>111.0</td>\n",
       "      <td>5632</td>\n",
       "      <td>55131.0</td>\n",
       "    </tr>\n",
       "    <tr>\n",
       "      <th>284462</th>\n",
       "      <td>321471</td>\n",
       "      <td>55</td>\n",
       "      <td>12</td>\n",
       "      <td>2015</td>\n",
       "      <td>307.0</td>\n",
       "      <td>5632</td>\n",
       "      <td>55133.0</td>\n",
       "    </tr>\n",
       "    <tr>\n",
       "      <th>284463</th>\n",
       "      <td>321472</td>\n",
       "      <td>55</td>\n",
       "      <td>12</td>\n",
       "      <td>2015</td>\n",
       "      <td>154.0</td>\n",
       "      <td>5632</td>\n",
       "      <td>55139.0</td>\n",
       "    </tr>\n",
       "    <tr>\n",
       "      <th>284464</th>\n",
       "      <td>321473</td>\n",
       "      <td>55</td>\n",
       "      <td>12</td>\n",
       "      <td>2015</td>\n",
       "      <td>1848.0</td>\n",
       "      <td>5632</td>\n",
       "      <td>55999.0</td>\n",
       "    </tr>\n",
       "    <tr>\n",
       "      <th>284465</th>\n",
       "      <td>321474</td>\n",
       "      <td>56</td>\n",
       "      <td>12</td>\n",
       "      <td>2015</td>\n",
       "      <td>661.0</td>\n",
       "      <td>661</td>\n",
       "      <td>56999.0</td>\n",
       "    </tr>\n",
       "  </tbody>\n",
       "</table>\n",
       "<p>284466 rows × 7 columns</p>\n",
       "</div>"
      ],
      "text/plain": [
       "        Unnamed: 0  State  Month  Year  countyBirths  stateBirths   County\n",
       "0                0      1      1  1985          36.0         5027   1001.0\n",
       "1                1      1      2  1985          36.0         4627   1001.0\n",
       "2                2      1      3  1985          43.0         4738   1001.0\n",
       "3                3      1      4  1985          40.0         4626   1001.0\n",
       "4                4      1      5  1985          34.0         4834   1001.0\n",
       "...            ...    ...    ...   ...           ...          ...      ...\n",
       "284461      321470     55     12  2015         111.0         5632  55131.0\n",
       "284462      321471     55     12  2015         307.0         5632  55133.0\n",
       "284463      321472     55     12  2015         154.0         5632  55139.0\n",
       "284464      321473     55     12  2015        1848.0         5632  55999.0\n",
       "284465      321474     56     12  2015         661.0          661  56999.0\n",
       "\n",
       "[284466 rows x 7 columns]"
      ]
     },
     "execution_count": 2,
     "metadata": {},
     "output_type": "execute_result"
    }
   ],
   "source": [
    "data=pd.read_csv('allBirthData_clean.csv')\n",
    "data"
   ]
  },
  {
   "cell_type": "code",
   "execution_count": 3,
   "id": "ad6b5ca4-0afd-4dca-a535-3511c28a013e",
   "metadata": {},
   "outputs": [
    {
     "data": {
      "text/plain": [
       "(284466, 7)"
      ]
     },
     "execution_count": 3,
     "metadata": {},
     "output_type": "execute_result"
    }
   ],
   "source": [
    "data.shape"
   ]
  },
  {
   "cell_type": "code",
   "execution_count": 4,
   "id": "98d7f3de-684f-4c80-9f98-c0126498e8f9",
   "metadata": {},
   "outputs": [
    {
     "data": {
      "text/html": [
       "<div>\n",
       "<style scoped>\n",
       "    .dataframe tbody tr th:only-of-type {\n",
       "        vertical-align: middle;\n",
       "    }\n",
       "\n",
       "    .dataframe tbody tr th {\n",
       "        vertical-align: top;\n",
       "    }\n",
       "\n",
       "    .dataframe thead th {\n",
       "        text-align: right;\n",
       "    }\n",
       "</style>\n",
       "<table border=\"1\" class=\"dataframe\">\n",
       "  <thead>\n",
       "    <tr style=\"text-align: right;\">\n",
       "      <th></th>\n",
       "      <th>Unnamed: 0</th>\n",
       "      <th>State</th>\n",
       "      <th>Month</th>\n",
       "      <th>Year</th>\n",
       "      <th>countyBirths</th>\n",
       "      <th>stateBirths</th>\n",
       "      <th>County</th>\n",
       "    </tr>\n",
       "  </thead>\n",
       "  <tbody>\n",
       "    <tr>\n",
       "      <th>0</th>\n",
       "      <td>0</td>\n",
       "      <td>1</td>\n",
       "      <td>1</td>\n",
       "      <td>1985</td>\n",
       "      <td>36.0</td>\n",
       "      <td>5027</td>\n",
       "      <td>1001.0</td>\n",
       "    </tr>\n",
       "    <tr>\n",
       "      <th>1</th>\n",
       "      <td>1</td>\n",
       "      <td>1</td>\n",
       "      <td>2</td>\n",
       "      <td>1985</td>\n",
       "      <td>36.0</td>\n",
       "      <td>4627</td>\n",
       "      <td>1001.0</td>\n",
       "    </tr>\n",
       "    <tr>\n",
       "      <th>2</th>\n",
       "      <td>2</td>\n",
       "      <td>1</td>\n",
       "      <td>3</td>\n",
       "      <td>1985</td>\n",
       "      <td>43.0</td>\n",
       "      <td>4738</td>\n",
       "      <td>1001.0</td>\n",
       "    </tr>\n",
       "    <tr>\n",
       "      <th>3</th>\n",
       "      <td>3</td>\n",
       "      <td>1</td>\n",
       "      <td>4</td>\n",
       "      <td>1985</td>\n",
       "      <td>40.0</td>\n",
       "      <td>4626</td>\n",
       "      <td>1001.0</td>\n",
       "    </tr>\n",
       "    <tr>\n",
       "      <th>4</th>\n",
       "      <td>4</td>\n",
       "      <td>1</td>\n",
       "      <td>5</td>\n",
       "      <td>1985</td>\n",
       "      <td>34.0</td>\n",
       "      <td>4834</td>\n",
       "      <td>1001.0</td>\n",
       "    </tr>\n",
       "    <tr>\n",
       "      <th>...</th>\n",
       "      <td>...</td>\n",
       "      <td>...</td>\n",
       "      <td>...</td>\n",
       "      <td>...</td>\n",
       "      <td>...</td>\n",
       "      <td>...</td>\n",
       "      <td>...</td>\n",
       "    </tr>\n",
       "    <tr>\n",
       "      <th>30633</th>\n",
       "      <td>37321</td>\n",
       "      <td>51</td>\n",
       "      <td>5</td>\n",
       "      <td>1985</td>\n",
       "      <td>11.0</td>\n",
       "      <td>852</td>\n",
       "      <td>56045.0</td>\n",
       "    </tr>\n",
       "    <tr>\n",
       "      <th>30634</th>\n",
       "      <td>37322</td>\n",
       "      <td>51</td>\n",
       "      <td>6</td>\n",
       "      <td>1985</td>\n",
       "      <td>11.0</td>\n",
       "      <td>848</td>\n",
       "      <td>56045.0</td>\n",
       "    </tr>\n",
       "    <tr>\n",
       "      <th>30635</th>\n",
       "      <td>37323</td>\n",
       "      <td>51</td>\n",
       "      <td>7</td>\n",
       "      <td>1985</td>\n",
       "      <td>14.0</td>\n",
       "      <td>810</td>\n",
       "      <td>56045.0</td>\n",
       "    </tr>\n",
       "    <tr>\n",
       "      <th>30636</th>\n",
       "      <td>37324</td>\n",
       "      <td>51</td>\n",
       "      <td>8</td>\n",
       "      <td>1985</td>\n",
       "      <td>16.0</td>\n",
       "      <td>841</td>\n",
       "      <td>56045.0</td>\n",
       "    </tr>\n",
       "    <tr>\n",
       "      <th>30637</th>\n",
       "      <td>37325</td>\n",
       "      <td>51</td>\n",
       "      <td>9</td>\n",
       "      <td>1985</td>\n",
       "      <td>15.0</td>\n",
       "      <td>810</td>\n",
       "      <td>56045.0</td>\n",
       "    </tr>\n",
       "  </tbody>\n",
       "</table>\n",
       "<p>30638 rows × 7 columns</p>\n",
       "</div>"
      ],
      "text/plain": [
       "       Unnamed: 0  State  Month  Year  countyBirths  stateBirths   County\n",
       "0               0      1      1  1985          36.0         5027   1001.0\n",
       "1               1      1      2  1985          36.0         4627   1001.0\n",
       "2               2      1      3  1985          43.0         4738   1001.0\n",
       "3               3      1      4  1985          40.0         4626   1001.0\n",
       "4               4      1      5  1985          34.0         4834   1001.0\n",
       "...           ...    ...    ...   ...           ...          ...      ...\n",
       "30633       37321     51      5  1985          11.0          852  56045.0\n",
       "30634       37322     51      6  1985          11.0          848  56045.0\n",
       "30635       37323     51      7  1985          14.0          810  56045.0\n",
       "30636       37324     51      8  1985          16.0          841  56045.0\n",
       "30637       37325     51      9  1985          15.0          810  56045.0\n",
       "\n",
       "[30638 rows x 7 columns]"
      ]
     },
     "execution_count": 4,
     "metadata": {},
     "output_type": "execute_result"
    }
   ],
   "source": [
    "data=data[data['Year']==1985]\n",
    "data"
   ]
  },
  {
   "cell_type": "code",
   "execution_count": 39,
   "id": "e572de2c-9f30-4a54-bebc-e1125f6c7f8f",
   "metadata": {},
   "outputs": [
    {
     "data": {
      "text/html": [
       "<div>\n",
       "<style scoped>\n",
       "    .dataframe tbody tr th:only-of-type {\n",
       "        vertical-align: middle;\n",
       "    }\n",
       "\n",
       "    .dataframe tbody tr th {\n",
       "        vertical-align: top;\n",
       "    }\n",
       "\n",
       "    .dataframe thead th {\n",
       "        text-align: right;\n",
       "    }\n",
       "</style>\n",
       "<table border=\"1\" class=\"dataframe\">\n",
       "  <thead>\n",
       "    <tr style=\"text-align: right;\">\n",
       "      <th></th>\n",
       "      <th>State</th>\n",
       "      <th>percenatge</th>\n",
       "    </tr>\n",
       "  </thead>\n",
       "  <tbody>\n",
       "    <tr>\n",
       "      <th>0</th>\n",
       "      <td>1</td>\n",
       "      <td>NaN</td>\n",
       "    </tr>\n",
       "    <tr>\n",
       "      <th>1</th>\n",
       "      <td>2</td>\n",
       "      <td>NaN</td>\n",
       "    </tr>\n",
       "    <tr>\n",
       "      <th>2</th>\n",
       "      <td>3</td>\n",
       "      <td>NaN</td>\n",
       "    </tr>\n",
       "    <tr>\n",
       "      <th>3</th>\n",
       "      <td>4</td>\n",
       "      <td>NaN</td>\n",
       "    </tr>\n",
       "    <tr>\n",
       "      <th>4</th>\n",
       "      <td>5</td>\n",
       "      <td>NaN</td>\n",
       "    </tr>\n",
       "    <tr>\n",
       "      <th>5</th>\n",
       "      <td>6</td>\n",
       "      <td>NaN</td>\n",
       "    </tr>\n",
       "    <tr>\n",
       "      <th>6</th>\n",
       "      <td>7</td>\n",
       "      <td>NaN</td>\n",
       "    </tr>\n",
       "    <tr>\n",
       "      <th>7</th>\n",
       "      <td>8</td>\n",
       "      <td>NaN</td>\n",
       "    </tr>\n",
       "    <tr>\n",
       "      <th>8</th>\n",
       "      <td>9</td>\n",
       "      <td>NaN</td>\n",
       "    </tr>\n",
       "    <tr>\n",
       "      <th>9</th>\n",
       "      <td>10</td>\n",
       "      <td>NaN</td>\n",
       "    </tr>\n",
       "    <tr>\n",
       "      <th>10</th>\n",
       "      <td>11</td>\n",
       "      <td>NaN</td>\n",
       "    </tr>\n",
       "    <tr>\n",
       "      <th>11</th>\n",
       "      <td>12</td>\n",
       "      <td>NaN</td>\n",
       "    </tr>\n",
       "    <tr>\n",
       "      <th>12</th>\n",
       "      <td>13</td>\n",
       "      <td>NaN</td>\n",
       "    </tr>\n",
       "    <tr>\n",
       "      <th>13</th>\n",
       "      <td>14</td>\n",
       "      <td>NaN</td>\n",
       "    </tr>\n",
       "    <tr>\n",
       "      <th>14</th>\n",
       "      <td>15</td>\n",
       "      <td>NaN</td>\n",
       "    </tr>\n",
       "    <tr>\n",
       "      <th>15</th>\n",
       "      <td>16</td>\n",
       "      <td>NaN</td>\n",
       "    </tr>\n",
       "    <tr>\n",
       "      <th>16</th>\n",
       "      <td>17</td>\n",
       "      <td>NaN</td>\n",
       "    </tr>\n",
       "    <tr>\n",
       "      <th>17</th>\n",
       "      <td>18</td>\n",
       "      <td>NaN</td>\n",
       "    </tr>\n",
       "    <tr>\n",
       "      <th>18</th>\n",
       "      <td>19</td>\n",
       "      <td>NaN</td>\n",
       "    </tr>\n",
       "    <tr>\n",
       "      <th>19</th>\n",
       "      <td>20</td>\n",
       "      <td>NaN</td>\n",
       "    </tr>\n",
       "    <tr>\n",
       "      <th>20</th>\n",
       "      <td>21</td>\n",
       "      <td>NaN</td>\n",
       "    </tr>\n",
       "    <tr>\n",
       "      <th>21</th>\n",
       "      <td>22</td>\n",
       "      <td>NaN</td>\n",
       "    </tr>\n",
       "    <tr>\n",
       "      <th>22</th>\n",
       "      <td>23</td>\n",
       "      <td>NaN</td>\n",
       "    </tr>\n",
       "    <tr>\n",
       "      <th>23</th>\n",
       "      <td>24</td>\n",
       "      <td>NaN</td>\n",
       "    </tr>\n",
       "    <tr>\n",
       "      <th>24</th>\n",
       "      <td>25</td>\n",
       "      <td>NaN</td>\n",
       "    </tr>\n",
       "    <tr>\n",
       "      <th>25</th>\n",
       "      <td>26</td>\n",
       "      <td>NaN</td>\n",
       "    </tr>\n",
       "    <tr>\n",
       "      <th>26</th>\n",
       "      <td>27</td>\n",
       "      <td>NaN</td>\n",
       "    </tr>\n",
       "    <tr>\n",
       "      <th>27</th>\n",
       "      <td>28</td>\n",
       "      <td>NaN</td>\n",
       "    </tr>\n",
       "    <tr>\n",
       "      <th>28</th>\n",
       "      <td>29</td>\n",
       "      <td>NaN</td>\n",
       "    </tr>\n",
       "    <tr>\n",
       "      <th>29</th>\n",
       "      <td>30</td>\n",
       "      <td>NaN</td>\n",
       "    </tr>\n",
       "    <tr>\n",
       "      <th>30</th>\n",
       "      <td>31</td>\n",
       "      <td>NaN</td>\n",
       "    </tr>\n",
       "    <tr>\n",
       "      <th>31</th>\n",
       "      <td>32</td>\n",
       "      <td>NaN</td>\n",
       "    </tr>\n",
       "    <tr>\n",
       "      <th>32</th>\n",
       "      <td>33</td>\n",
       "      <td>NaN</td>\n",
       "    </tr>\n",
       "    <tr>\n",
       "      <th>33</th>\n",
       "      <td>34</td>\n",
       "      <td>NaN</td>\n",
       "    </tr>\n",
       "    <tr>\n",
       "      <th>34</th>\n",
       "      <td>35</td>\n",
       "      <td>NaN</td>\n",
       "    </tr>\n",
       "    <tr>\n",
       "      <th>35</th>\n",
       "      <td>36</td>\n",
       "      <td>NaN</td>\n",
       "    </tr>\n",
       "    <tr>\n",
       "      <th>36</th>\n",
       "      <td>37</td>\n",
       "      <td>NaN</td>\n",
       "    </tr>\n",
       "    <tr>\n",
       "      <th>37</th>\n",
       "      <td>38</td>\n",
       "      <td>NaN</td>\n",
       "    </tr>\n",
       "    <tr>\n",
       "      <th>38</th>\n",
       "      <td>39</td>\n",
       "      <td>NaN</td>\n",
       "    </tr>\n",
       "    <tr>\n",
       "      <th>39</th>\n",
       "      <td>40</td>\n",
       "      <td>NaN</td>\n",
       "    </tr>\n",
       "    <tr>\n",
       "      <th>40</th>\n",
       "      <td>41</td>\n",
       "      <td>NaN</td>\n",
       "    </tr>\n",
       "    <tr>\n",
       "      <th>41</th>\n",
       "      <td>42</td>\n",
       "      <td>NaN</td>\n",
       "    </tr>\n",
       "    <tr>\n",
       "      <th>42</th>\n",
       "      <td>43</td>\n",
       "      <td>NaN</td>\n",
       "    </tr>\n",
       "    <tr>\n",
       "      <th>43</th>\n",
       "      <td>44</td>\n",
       "      <td>NaN</td>\n",
       "    </tr>\n",
       "    <tr>\n",
       "      <th>44</th>\n",
       "      <td>45</td>\n",
       "      <td>NaN</td>\n",
       "    </tr>\n",
       "    <tr>\n",
       "      <th>45</th>\n",
       "      <td>46</td>\n",
       "      <td>NaN</td>\n",
       "    </tr>\n",
       "    <tr>\n",
       "      <th>46</th>\n",
       "      <td>47</td>\n",
       "      <td>NaN</td>\n",
       "    </tr>\n",
       "    <tr>\n",
       "      <th>47</th>\n",
       "      <td>48</td>\n",
       "      <td>NaN</td>\n",
       "    </tr>\n",
       "    <tr>\n",
       "      <th>48</th>\n",
       "      <td>49</td>\n",
       "      <td>NaN</td>\n",
       "    </tr>\n",
       "    <tr>\n",
       "      <th>49</th>\n",
       "      <td>50</td>\n",
       "      <td>NaN</td>\n",
       "    </tr>\n",
       "    <tr>\n",
       "      <th>50</th>\n",
       "      <td>51</td>\n",
       "      <td>NaN</td>\n",
       "    </tr>\n",
       "  </tbody>\n",
       "</table>\n",
       "</div>"
      ],
      "text/plain": [
       "    State percenatge\n",
       "0       1        NaN\n",
       "1       2        NaN\n",
       "2       3        NaN\n",
       "3       4        NaN\n",
       "4       5        NaN\n",
       "5       6        NaN\n",
       "6       7        NaN\n",
       "7       8        NaN\n",
       "8       9        NaN\n",
       "9      10        NaN\n",
       "10     11        NaN\n",
       "11     12        NaN\n",
       "12     13        NaN\n",
       "13     14        NaN\n",
       "14     15        NaN\n",
       "15     16        NaN\n",
       "16     17        NaN\n",
       "17     18        NaN\n",
       "18     19        NaN\n",
       "19     20        NaN\n",
       "20     21        NaN\n",
       "21     22        NaN\n",
       "22     23        NaN\n",
       "23     24        NaN\n",
       "24     25        NaN\n",
       "25     26        NaN\n",
       "26     27        NaN\n",
       "27     28        NaN\n",
       "28     29        NaN\n",
       "29     30        NaN\n",
       "30     31        NaN\n",
       "31     32        NaN\n",
       "32     33        NaN\n",
       "33     34        NaN\n",
       "34     35        NaN\n",
       "35     36        NaN\n",
       "36     37        NaN\n",
       "37     38        NaN\n",
       "38     39        NaN\n",
       "39     40        NaN\n",
       "40     41        NaN\n",
       "41     42        NaN\n",
       "42     43        NaN\n",
       "43     44        NaN\n",
       "44     45        NaN\n",
       "45     46        NaN\n",
       "46     47        NaN\n",
       "47     48        NaN\n",
       "48     49        NaN\n",
       "49     50        NaN\n",
       "50     51        NaN"
      ]
     },
     "execution_count": 39,
     "metadata": {},
     "output_type": "execute_result"
    }
   ],
   "source": [
    "\n",
    "state_list=list(range(1,52))\n",
    "state_list\n",
    "column_names=['State','percenatge']\n",
    "df=pd.DataFrame(columns=column_names)\n",
    "df['State']=state_list\n",
    "Statebirth=[]\n",
    "df"
   ]
  },
  {
   "cell_type": "code",
   "execution_count": 36,
   "id": "057c3686-9649-4a7e-a6ce-7ec336f7d606",
   "metadata": {},
   "outputs": [],
   "source": [
    "for item in df['State']:\n",
    "  Statebirth.append(data.loc[data['State']==item,'countyBirths'].sum())\n"
   ]
  },
  {
   "cell_type": "code",
   "execution_count": 25,
   "id": "20487d78-04ac-4cc9-9076-2779e8ef2720",
   "metadata": {},
   "outputs": [],
   "source": [
    "df['Statebirth']=Statebirth\n"
   ]
  },
  {
   "cell_type": "code",
   "execution_count": 26,
   "id": "ee15256c-6540-452b-beb8-2bf13e1d994d",
   "metadata": {},
   "outputs": [],
   "source": [
    "total_1985=df['Statebirth'].sum()\n",
    "\n",
    "df['percentage']=df['Statebirth']/total_1985*100"
   ]
  },
  {
   "cell_type": "code",
   "execution_count": 27,
   "id": "9e5cb4d2-fdb6-4478-9892-9f1e0ea03089",
   "metadata": {},
   "outputs": [
    {
     "data": {
      "text/plain": [
       "Text(0.5, 1.0, 'percentage of birth in every state in 1985 ')"
      ]
     },
     "execution_count": 27,
     "metadata": {},
     "output_type": "execute_result"
    },
    {
     "data": {
      "image/png": "[encoded data removed]",
      "text/plain": [
       "<Figure size 432x288 with 1 Axes>"
      ]
     },
     "metadata": {
      "needs_background": "light"
     },
     "output_type": "display_data"
    }
   ],
   "source": [
    "df['percentage'].plot.bar(color='b')\n",
    "plt.xlabel(\"State#\")\n",
    "plt.ylabel(\"Percentage in %\")\n",
    "\n",
    "\n",
    "plt.title(\"percentage of birth in every state in 1985 \")\n"
   ]
  },
  {
   "cell_type": "code",
   "execution_count": null,
   "id": "cc11689e-8440-408d-abf4-e97c590f34ca",
   "metadata": {},
   "outputs": [],
   "source": []
  },
  {
   "cell_type": "code",
   "execution_count": 28,
   "id": "87a3b47e-d83e-436f-999d-c7f9aaa86676",
   "metadata": {},
   "outputs": [
    {
     "data": {
      "text/plain": [
       "<AxesSubplot:>"
      ]
     },
     "execution_count": 28,
     "metadata": {},
     "output_type": "execute_result"
    },
    {
     "data": {
      "image/png": "[encoded data removed]",
      "text/plain": [
       "<Figure size 432x288 with 2 Axes>"
      ]
     },
     "metadata": {
      "needs_background": "light"
     },
     "output_type": "display_data"
    }
   ],
   "source": [
    "correlate=df.corr()\n",
    "sns.heatmap(correlate,xticklabels=correlate.columns, yticklabels=correlate.columns,annot=True)\n"
   ]
  },
  {
   "cell_type": "code",
   "execution_count": 29,
   "id": "7bf7b86d-dfe6-4acc-96f5-0bacdcafe4b6",
   "metadata": {},
   "outputs": [
    {
     "data": {
      "text/plain": [
       "<seaborn.axisgrid.PairGrid at 0x1e21c6d18b0>"
      ]
     },
     "execution_count": 29,
     "metadata": {},
     "output_type": "execute_result"
    },
    {
     "data": {
      "image/png": "[encoded data removed]",
      "text/plain": [
       "<Figure size 720x720 with 20 Axes>"
      ]
     },
     "metadata": {
      "needs_background": "light"
     },
     "output_type": "display_data"
    }
   ],
   "source": [
    "sns.pairplot(df)"
   ]
  },
  {
   "cell_type": "code",
   "execution_count": 30,
   "id": "abaaf184-b22a-4406-897c-28db22848108",
   "metadata": {},
   "outputs": [
    {
     "data": {
      "text/plain": [
       "<AxesSubplot:>"
      ]
     },
     "execution_count": 30,
     "metadata": {},
     "output_type": "execute_result"
    },
    {
     "data": {
      "image/png": "[encoded data removed]",
      "text/plain": [
       "<Figure size 432x288 with 1 Axes>"
      ]
     },
     "metadata": {
      "needs_background": "light"
     },
     "output_type": "display_data"
    }
   ],
   "source": [
    "df.boxplot('percentage')\n"
   ]
  },
  {
   "cell_type": "code",
   "execution_count": 31,
   "id": "36c2a6c4-638f-4329-a216-6769c9bf3330",
   "metadata": {},
   "outputs": [
    {
     "data": {
      "text/plain": [
       "<AxesSubplot:>"
      ]
     },
     "execution_count": 31,
     "metadata": {},
     "output_type": "execute_result"
    },
    {
     "data": {
      "image/png": "[encoded data removed]",
      "text/plain": [
       "<Figure size 432x288 with 1 Axes>"
      ]
     },
     "metadata": {
      "needs_background": "light"
     },
     "output_type": "display_data"
    }
   ],
   "source": [
    "df.boxplot('Statebirth')\n"
   ]
  },
  {
   "cell_type": "code",
   "execution_count": 32,
   "id": "5eb145f8-8548-498a-a7e2-a9d5a0b265aa",
   "metadata": {},
   "outputs": [
    {
     "data": {
      "image/png": "[encoded data removed]",
      "text/plain": [
       "<Figure size 720x720 with 4 Axes>"
      ]
     },
     "metadata": {
      "needs_background": "light"
     },
     "output_type": "display_data"
    }
   ],
   "source": [
    "histogram = df.hist(bins=10,figsize =(10,10))"
   ]
  },
  {
   "cell_type": "code",
   "execution_count": 33,
   "id": "8f9af60d-fca1-4991-b55a-d96890f3659a",
   "metadata": {},
   "outputs": [
    {
     "data": {
      "image/png": "[encoded data removed]",
      "text/plain": [
       "<Figure size 432x288 with 1 Axes>"
      ]
     },
     "metadata": {
      "needs_background": "light"
     },
     "output_type": "display_data"
    }
   ],
   "source": [
    "boxplot = df.boxplot(grid=False, vert=False,fontsize=15)"
   ]
  },
  {
   "cell_type": "code",
   "execution_count": null,
   "id": "bfc11f5c-f3ff-4f48-9924-8e7ba95d6e5f",
   "metadata": {},
   "outputs": [],
   "source": []
  },
  {
   "cell_type": "code",
   "execution_count": null,
   "id": "971606cb-7cd9-4884-9645-8d9c8b3ba238",
   "metadata": {},
   "outputs": [],
   "source": []
  },
  {
   "cell_type": "code",
   "execution_count": null,
   "id": "43f5acdf-e855-400b-bda4-16446a5b8a3b",
   "metadata": {},
   "outputs": [],
   "source": []
  },
  {
   "cell_type": "code",
   "execution_count": null,
   "id": "2f199fac-c868-4251-8d25-b42f4f195e0d",
   "metadata": {},
   "outputs": [],
   "source": []
  },
  {
   "cell_type": "code",
   "execution_count": null,
   "id": "e3be00b6-252f-4fc8-99a7-c975b392c95a",
   "metadata": {},
   "outputs": [],
   "source": []
  },
  {
   "cell_type": "code",
   "execution_count": null,
   "id": "913b6b87-dfd2-4e3b-92ff-3f408cc57fd3",
   "metadata": {},
   "outputs": [],
   "source": []
  }
 ],
 "metadata": {
  "kernelspec": {
   "display_name": "Python 3 (ipykernel)",
   "language": "python",
   "name": "python3"
  },
  "language_info": {
   "codemirror_mode": {
    "name": "ipython",
    "version": 3
   },
   "file_extension": ".py",
   "mimetype": "text/x-python",
   "name": "python",
   "nbconvert_exporter": "python",
   "pygments_lexer": "ipython3",
   "version": "3.8.5"
  }
 },
 "nbformat": 4,
 "nbformat_minor": 5
}
