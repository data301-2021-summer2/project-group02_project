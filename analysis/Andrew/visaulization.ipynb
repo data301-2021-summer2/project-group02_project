{
 "cells": [
  {
   "cell_type": "code",
   "execution_count": 1,
   "id": "947e6d18-ce38-47ff-a20f-b08748b86fdb",
   "metadata": {},
   "outputs": [],
   "source": [
    "import pandas as p\n",
    "import seaborn as sns\n",
    "import numpy as py "
   ]
  },
  {
   "cell_type": "code",
   "execution_count": null,
   "id": "d63109df-ce49-46c0-b24b-fd72ed9524f8",
   "metadata": {},
   "outputs": [],
   "source": []
  }
 ],
 "metadata": {
  "kernelspec": {
   "display_name": "Python 3 (ipykernel)",
   "language": "python",
   "name": "python3"
  },
  "language_info": {
   "codemirror_mode": {
    "name": "ipython",
    "version": 3
   },
   "file_extension": ".py",
   "mimetype": "text/x-python",
   "name": "python",
   "nbconvert_exporter": "python",
   "pygments_lexer": "ipython3",
   "version": "3.8.5"
  }
 },
 "nbformat": 4,
 "nbformat_minor": 5
}
